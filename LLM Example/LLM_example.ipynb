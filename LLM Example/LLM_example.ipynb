{
 "cells": [
  {
   "cell_type": "markdown",
   "metadata": {},
   "source": [
    "pip install google-genai"
   ]
  },
  {
   "cell_type": "code",
   "execution_count": 2,
   "metadata": {},
   "outputs": [],
   "source": [
    "from google import genai\n",
    "import json"
   ]
  },
  {
   "cell_type": "code",
   "execution_count": 3,
   "metadata": {},
   "outputs": [],
   "source": [
    "def load_config():\n",
    "    with open(\"config.json\", \"r\") as file:\n",
    "        return json.load(file)"
   ]
  },
  {
   "cell_type": "code",
   "execution_count": 4,
   "metadata": {},
   "outputs": [],
   "source": [
    "config = load_config()\n",
    "API_KEY = config[\"API_KEY\"]"
   ]
  },
  {
   "cell_type": "code",
   "execution_count": 10,
   "metadata": {},
   "outputs": [],
   "source": [
    "class Custom_GenAI:\n",
    "\n",
    "    def __init__(self, API_KEY):\n",
    "        self.client = genai.Client(api_key=API_KEY)\n",
    "\n",
    "    def ask_ai(self, question):\n",
    "        response = self.client.models.generate_content(\n",
    "        model=\"gemini-2.0-flash\",\n",
    "        contents=question,\n",
    "        )\n",
    "\n",
    "        return response.text"
   ]
  },
  {
   "cell_type": "code",
   "execution_count": 11,
   "metadata": {},
   "outputs": [],
   "source": [
    "ai = Custom_GenAI(API_KEY)"
   ]
  },
  {
   "cell_type": "code",
   "execution_count": 12,
   "metadata": {},
   "outputs": [
    {
     "name": "stdout",
     "output_type": "stream",
     "text": [
      "Okay, here are 5 sample MongoDB queries for a `products` collection, covering a variety of common use cases:\n",
      "\n",
      "**Assumptions:**\n",
      "\n",
      "*   The `products` collection contains documents with fields like: `_id`, `name`, `description`, `price`, `category`, `inventory`, `tags` (array), `rating`, `createdAt`, `updatedAt`.\n",
      "*   Prices are stored as numbers (e.g., `99.99`).\n",
      "*   Inventory is stored as an integer.\n",
      "*   Ratings are stored as a number (e.g., `4.5`).\n",
      "\n",
      "**The Queries:**\n",
      "\n",
      "**1. Find Products in a Specific Category with Price Range:**\n",
      "\n",
      "```javascript\n",
      "db.products.find({\n",
      "  category: \"Electronics\",\n",
      "  price: { $gte: 50, $lte: 200 }\n",
      "})\n",
      "```\n",
      "\n",
      "*   **Explanation:** This query finds all products where the `category` field is equal to \"Electronics\" **and** the `price` is greater than or equal to 50 and less than or equal to 200.  `$gte` means \"greater than or equal to\" and `$lte` means \"less than or equal to.\"\n",
      "\n",
      "**2. Find Products by Name (Case-Insensitive) Using Regular Expression:**\n",
      "\n",
      "```javascript\n",
      "db.products.find({\n",
      "  name: { $regex: \"monitor\", $options: \"i\" }\n",
      "})\n",
      "```\n",
      "\n",
      "*   **Explanation:** This query finds all products where the `name` field contains the word \"monitor\" (case-insensitive). `$regex` allows you to use regular expressions for pattern matching. `$options: \"i\"` makes the regex case-insensitive.  You can adapt the regex to be more precise if needed (e.g., `^monitor` for names *starting* with \"monitor\").\n",
      "\n",
      "**3. Find Products with a Specific Tag and Sort by Price (Descending):**\n",
      "\n",
      "```javascript\n",
      "db.products.find({\n",
      "  tags: \"featured\"\n",
      "}).sort({ price: -1 })\n",
      "```\n",
      "\n",
      "*   **Explanation:** This query finds all products that have the tag \"featured\" in their `tags` array.  It then sorts the results in descending order of `price` (highest price first). `-1` indicates descending order; `1` would indicate ascending order.\n",
      "\n",
      "**4. Find Products with Low Inventory and Update a field:**\n",
      "\n",
      "```javascript\n",
      "db.products.updateMany(\n",
      "    {inventory: {$lte: 5}},\n",
      "    {$set:{status:\"Low Stock\"}}\n",
      ")\n",
      "```\n",
      "\n",
      "*   **Explanation:** This query updates the `status` to \"Low Stock\" for the products that have an inventory less than or equals to 5. `$lte` means \"less than or equal to\".\n",
      "\n",
      "**5. Aggregate products by category and calculate the average price for each category**\n",
      "\n",
      "```javascript\n",
      "db.products.aggregate([\n",
      "  {\n",
      "    $group: {\n",
      "      _id: \"$category\",\n",
      "      averagePrice: { $avg: \"$price\" },\n",
      "      totalProducts: { $sum: 1 }\n",
      "    }\n",
      "  },\n",
      "  {\n",
      "    $sort: { averagePrice: -1 } // Optional: sort by average price descending\n",
      "  }\n",
      "])\n",
      "```\n",
      "\n",
      "*   **Explanation:** This query uses the aggregation pipeline to group products by their `category`.  For each category, it calculates:\n",
      "    *   `averagePrice`:  The average price of products in that category using `$avg`.\n",
      "    *   `totalProducts`: The number of products in that category using `$sum: 1` (counts each document).\n",
      "    *   The `$sort` stage (optional) sorts the results by the calculated `averagePrice` in descending order.\n",
      "\n",
      "**Important Notes:**\n",
      "\n",
      "*   **Adapt to your Data:**  These are examples. Adjust the field names, values, and operators to match the structure of your actual `products` collection.\n",
      "*   **Indexes:** For performance, especially on large collections, create indexes on fields that you frequently query (e.g., `category`, `price`, `tags`, `name`).  You can create an index like this: `db.products.createIndex({ category: 1, price: 1 })`. The `1` indicates ascending order for indexing.\n",
      "*   **MongoDB Shell:**  These queries are intended to be run in the MongoDB shell ( `mongo` command).  You can also use them in your application code (e.g., Node.js with the MongoDB driver).\n",
      "*   **Explain:** Use `db.products.find(...).explain(\"executionStats\")`  or `db.products.aggregate([...]).explain(\"executionStats\")`  to analyze the query execution plan and identify potential performance bottlenecks. This will help you optimize your queries and indexes.\n",
      "*   **Aggregation Framework:**  The aggregation framework is extremely powerful for complex data transformations, calculations, and reporting. Explore it further for advanced analysis.\n",
      "*   **Security:**  When using these queries in your application, be sure to properly sanitize user input to prevent MongoDB injection vulnerabilities.\n",
      "\n",
      "These examples provide a solid foundation for querying your `products` collection.  Experiment with different combinations of operators and aggregation stages to get the data you need. Remember to optimize for performance as your data grows.\n",
      "\n"
     ]
    }
   ],
   "source": [
    "ques = \"Give me 5 Sample MongoDB Queries for Products Collections\"\n",
    "\n",
    "res = ai.ask_ai(ques)\n",
    "\n",
    "print(res)"
   ]
  },
  {
   "cell_type": "code",
   "execution_count": null,
   "metadata": {},
   "outputs": [],
   "source": []
  }
 ],
 "metadata": {
  "kernelspec": {
   "display_name": "551spring",
   "language": "python",
   "name": "python3"
  },
  "language_info": {
   "codemirror_mode": {
    "name": "ipython",
    "version": 3
   },
   "file_extension": ".py",
   "mimetype": "text/x-python",
   "name": "python",
   "nbconvert_exporter": "python",
   "pygments_lexer": "ipython3",
   "version": "3.10.16"
  }
 },
 "nbformat": 4,
 "nbformat_minor": 2
}
